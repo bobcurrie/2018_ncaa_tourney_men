{
 "cells": [
  {
   "cell_type": "code",
   "execution_count": 61,
   "metadata": {},
   "outputs": [],
   "source": [
    "import numpy as np\n",
    "import pandas as pd\n",
    "import os\n",
    "from sklearn.linear_model import LogisticRegression\n",
    "import matplotlib.pyplot as plt\n",
    "from sklearn.utils import shuffle\n",
    "from sklearn.model_selection import GridSearchCV"
   ]
  },
  {
   "cell_type": "code",
   "execution_count": 62,
   "metadata": {},
   "outputs": [],
   "source": [
    "raw_data_path = os.path.join(os.path.pardir,'data','raw','DataFiles')\n",
    "\n",
    "ncaa_tourney_compact = os.path.join(raw_data_path, 'NCAATourneyCompactResults.csv')\n",
    "seas_2018 = os.path.join(os.path.join(os.path.pardir,'data','raw','PrelimData2018'), 'RegularSeasonCompactResults_Prelim2018.csv')\n",
    "\n",
    "ncaa_tourney_seeds = os.path.join(raw_data_path, 'NCAATourneySeeds.csv')\n",
    "ncaa_tourney_seeds2018 = os.path.join(os.path.join(os.path.pardir,'data','raw','SampleTourney2018'), 'NCAATourneySeeds_SampleTourney2018.csv')\n",
    "\n",
    "sample_sub = os.path.join(os.path.pardir,'data','raw','SampleSubmissionStage1.csv')\n",
    "sample_sub2 = os.path.join(os.path.pardir,'data','raw','SampleSubmissionStage2.csv')\n",
    "#sample_sub2 = os.path.join(os.path.join(os.path.pardir,'data','raw','SampleTourney2018'), 'SampleSubmissionStage2_SampleTourney2018.csv')\n",
    "\n",
    "\n",
    "df_tour = pd.read_csv(ncaa_tourney_compact)\n",
    "#df_tour = pd.read_csv(seas_2018)\n",
    "\n",
    "#df_seeds = pd.read_csv(ncaa_tourney_seeds)\n",
    "df_seeds = pd.read_csv(ncaa_tourney_seeds2018)\n",
    "df_sample_sub = pd.read_csv(sample_sub)\n",
    "df_sample_sub2 = pd.read_csv(sample_sub2)"
   ]
  },
  {
   "cell_type": "code",
   "execution_count": 63,
   "metadata": {},
   "outputs": [
    {
     "data": {
      "text/html": [
       "<div>\n",
       "<style scoped>\n",
       "    .dataframe tbody tr th:only-of-type {\n",
       "        vertical-align: middle;\n",
       "    }\n",
       "\n",
       "    .dataframe tbody tr th {\n",
       "        vertical-align: top;\n",
       "    }\n",
       "\n",
       "    .dataframe thead th {\n",
       "        text-align: right;\n",
       "    }\n",
       "</style>\n",
       "<table border=\"1\" class=\"dataframe\">\n",
       "  <thead>\n",
       "    <tr style=\"text-align: right;\">\n",
       "      <th></th>\n",
       "      <th>Season</th>\n",
       "      <th>DayNum</th>\n",
       "      <th>WTeamID</th>\n",
       "      <th>WScore</th>\n",
       "      <th>LTeamID</th>\n",
       "      <th>LScore</th>\n",
       "      <th>WLoc</th>\n",
       "      <th>NumOT</th>\n",
       "    </tr>\n",
       "  </thead>\n",
       "  <tbody>\n",
       "    <tr>\n",
       "      <th>2112</th>\n",
       "      <td>2017</td>\n",
       "      <td>146</td>\n",
       "      <td>1314</td>\n",
       "      <td>75</td>\n",
       "      <td>1246</td>\n",
       "      <td>73</td>\n",
       "      <td>N</td>\n",
       "      <td>0</td>\n",
       "    </tr>\n",
       "    <tr>\n",
       "      <th>2113</th>\n",
       "      <td>2017</td>\n",
       "      <td>146</td>\n",
       "      <td>1376</td>\n",
       "      <td>77</td>\n",
       "      <td>1196</td>\n",
       "      <td>70</td>\n",
       "      <td>N</td>\n",
       "      <td>0</td>\n",
       "    </tr>\n",
       "    <tr>\n",
       "      <th>2114</th>\n",
       "      <td>2017</td>\n",
       "      <td>152</td>\n",
       "      <td>1211</td>\n",
       "      <td>77</td>\n",
       "      <td>1376</td>\n",
       "      <td>73</td>\n",
       "      <td>N</td>\n",
       "      <td>0</td>\n",
       "    </tr>\n",
       "    <tr>\n",
       "      <th>2115</th>\n",
       "      <td>2017</td>\n",
       "      <td>152</td>\n",
       "      <td>1314</td>\n",
       "      <td>77</td>\n",
       "      <td>1332</td>\n",
       "      <td>76</td>\n",
       "      <td>N</td>\n",
       "      <td>0</td>\n",
       "    </tr>\n",
       "    <tr>\n",
       "      <th>2116</th>\n",
       "      <td>2017</td>\n",
       "      <td>154</td>\n",
       "      <td>1314</td>\n",
       "      <td>71</td>\n",
       "      <td>1211</td>\n",
       "      <td>65</td>\n",
       "      <td>N</td>\n",
       "      <td>0</td>\n",
       "    </tr>\n",
       "  </tbody>\n",
       "</table>\n",
       "</div>"
      ],
      "text/plain": [
       "      Season  DayNum  WTeamID  WScore  LTeamID  LScore WLoc  NumOT\n",
       "2112    2017     146     1314      75     1246      73    N      0\n",
       "2113    2017     146     1376      77     1196      70    N      0\n",
       "2114    2017     152     1211      77     1376      73    N      0\n",
       "2115    2017     152     1314      77     1332      76    N      0\n",
       "2116    2017     154     1314      71     1211      65    N      0"
      ]
     },
     "execution_count": 63,
     "metadata": {},
     "output_type": "execute_result"
    }
   ],
   "source": [
    "#df_tour[~df_tour['WTeamID'].isin(df_seeds['TeamID'])].dropna()\n",
    "#df_tour[~df_tour['LTeamID'].isin(df_seeds['TeamID'])].dropna()\n",
    "df_tour.tail()"
   ]
  },
  {
   "cell_type": "code",
   "execution_count": 64,
   "metadata": {},
   "outputs": [
    {
     "data": {
      "text/html": [
       "<div>\n",
       "<style scoped>\n",
       "    .dataframe tbody tr th:only-of-type {\n",
       "        vertical-align: middle;\n",
       "    }\n",
       "\n",
       "    .dataframe tbody tr th {\n",
       "        vertical-align: top;\n",
       "    }\n",
       "\n",
       "    .dataframe thead th {\n",
       "        text-align: right;\n",
       "    }\n",
       "</style>\n",
       "<table border=\"1\" class=\"dataframe\">\n",
       "  <thead>\n",
       "    <tr style=\"text-align: right;\">\n",
       "      <th></th>\n",
       "      <th>Season</th>\n",
       "      <th>Seed</th>\n",
       "      <th>TeamID</th>\n",
       "    </tr>\n",
       "  </thead>\n",
       "  <tbody>\n",
       "    <tr>\n",
       "      <th>2209</th>\n",
       "      <td>2018</td>\n",
       "      <td>Z12</td>\n",
       "      <td>1308</td>\n",
       "    </tr>\n",
       "    <tr>\n",
       "      <th>2210</th>\n",
       "      <td>2018</td>\n",
       "      <td>Z13</td>\n",
       "      <td>1149</td>\n",
       "    </tr>\n",
       "    <tr>\n",
       "      <th>2211</th>\n",
       "      <td>2018</td>\n",
       "      <td>Z14</td>\n",
       "      <td>1137</td>\n",
       "    </tr>\n",
       "    <tr>\n",
       "      <th>2212</th>\n",
       "      <td>2018</td>\n",
       "      <td>Z15</td>\n",
       "      <td>1233</td>\n",
       "    </tr>\n",
       "    <tr>\n",
       "      <th>2213</th>\n",
       "      <td>2018</td>\n",
       "      <td>Z16</td>\n",
       "      <td>1335</td>\n",
       "    </tr>\n",
       "  </tbody>\n",
       "</table>\n",
       "</div>"
      ],
      "text/plain": [
       "      Season Seed  TeamID\n",
       "2209    2018  Z12    1308\n",
       "2210    2018  Z13    1149\n",
       "2211    2018  Z14    1137\n",
       "2212    2018  Z15    1233\n",
       "2213    2018  Z16    1335"
      ]
     },
     "execution_count": 64,
     "metadata": {},
     "output_type": "execute_result"
    }
   ],
   "source": [
    "df_seeds.tail()"
   ]
  },
  {
   "cell_type": "code",
   "execution_count": 65,
   "metadata": {},
   "outputs": [
    {
     "data": {
      "text/html": [
       "<div>\n",
       "<style scoped>\n",
       "    .dataframe tbody tr th:only-of-type {\n",
       "        vertical-align: middle;\n",
       "    }\n",
       "\n",
       "    .dataframe tbody tr th {\n",
       "        vertical-align: top;\n",
       "    }\n",
       "\n",
       "    .dataframe thead th {\n",
       "        text-align: right;\n",
       "    }\n",
       "</style>\n",
       "<table border=\"1\" class=\"dataframe\">\n",
       "  <thead>\n",
       "    <tr style=\"text-align: right;\">\n",
       "      <th></th>\n",
       "      <th>Season</th>\n",
       "      <th>DayNum</th>\n",
       "      <th>WTeamID</th>\n",
       "      <th>WScore</th>\n",
       "      <th>LTeamID</th>\n",
       "      <th>LScore</th>\n",
       "      <th>WLoc</th>\n",
       "      <th>NumOT</th>\n",
       "    </tr>\n",
       "  </thead>\n",
       "  <tbody>\n",
       "    <tr>\n",
       "      <th>2112</th>\n",
       "      <td>2017</td>\n",
       "      <td>146</td>\n",
       "      <td>1314</td>\n",
       "      <td>75</td>\n",
       "      <td>1246</td>\n",
       "      <td>73</td>\n",
       "      <td>N</td>\n",
       "      <td>0</td>\n",
       "    </tr>\n",
       "    <tr>\n",
       "      <th>2113</th>\n",
       "      <td>2017</td>\n",
       "      <td>146</td>\n",
       "      <td>1376</td>\n",
       "      <td>77</td>\n",
       "      <td>1196</td>\n",
       "      <td>70</td>\n",
       "      <td>N</td>\n",
       "      <td>0</td>\n",
       "    </tr>\n",
       "    <tr>\n",
       "      <th>2114</th>\n",
       "      <td>2017</td>\n",
       "      <td>152</td>\n",
       "      <td>1211</td>\n",
       "      <td>77</td>\n",
       "      <td>1376</td>\n",
       "      <td>73</td>\n",
       "      <td>N</td>\n",
       "      <td>0</td>\n",
       "    </tr>\n",
       "    <tr>\n",
       "      <th>2115</th>\n",
       "      <td>2017</td>\n",
       "      <td>152</td>\n",
       "      <td>1314</td>\n",
       "      <td>77</td>\n",
       "      <td>1332</td>\n",
       "      <td>76</td>\n",
       "      <td>N</td>\n",
       "      <td>0</td>\n",
       "    </tr>\n",
       "    <tr>\n",
       "      <th>2116</th>\n",
       "      <td>2017</td>\n",
       "      <td>154</td>\n",
       "      <td>1314</td>\n",
       "      <td>71</td>\n",
       "      <td>1211</td>\n",
       "      <td>65</td>\n",
       "      <td>N</td>\n",
       "      <td>0</td>\n",
       "    </tr>\n",
       "  </tbody>\n",
       "</table>\n",
       "</div>"
      ],
      "text/plain": [
       "      Season  DayNum  WTeamID  WScore  LTeamID  LScore WLoc  NumOT\n",
       "2112    2017     146     1314      75     1246      73    N      0\n",
       "2113    2017     146     1376      77     1196      70    N      0\n",
       "2114    2017     152     1211      77     1376      73    N      0\n",
       "2115    2017     152     1314      77     1332      76    N      0\n",
       "2116    2017     154     1314      71     1211      65    N      0"
      ]
     },
     "execution_count": 65,
     "metadata": {},
     "output_type": "execute_result"
    }
   ],
   "source": [
    "df_tour.tail()"
   ]
  },
  {
   "cell_type": "code",
   "execution_count": 66,
   "metadata": {},
   "outputs": [
    {
     "data": {
      "text/html": [
       "<div>\n",
       "<style scoped>\n",
       "    .dataframe tbody tr th:only-of-type {\n",
       "        vertical-align: middle;\n",
       "    }\n",
       "\n",
       "    .dataframe tbody tr th {\n",
       "        vertical-align: top;\n",
       "    }\n",
       "\n",
       "    .dataframe thead th {\n",
       "        text-align: right;\n",
       "    }\n",
       "</style>\n",
       "<table border=\"1\" class=\"dataframe\">\n",
       "  <thead>\n",
       "    <tr style=\"text-align: right;\">\n",
       "      <th></th>\n",
       "      <th>ID</th>\n",
       "      <th>Pred</th>\n",
       "    </tr>\n",
       "  </thead>\n",
       "  <tbody>\n",
       "    <tr>\n",
       "      <th>9107</th>\n",
       "      <td>2017_1455_1458</td>\n",
       "      <td>0.5</td>\n",
       "    </tr>\n",
       "    <tr>\n",
       "      <th>9108</th>\n",
       "      <td>2017_1455_1462</td>\n",
       "      <td>0.5</td>\n",
       "    </tr>\n",
       "    <tr>\n",
       "      <th>9109</th>\n",
       "      <td>2017_1457_1458</td>\n",
       "      <td>0.5</td>\n",
       "    </tr>\n",
       "    <tr>\n",
       "      <th>9110</th>\n",
       "      <td>2017_1457_1462</td>\n",
       "      <td>0.5</td>\n",
       "    </tr>\n",
       "    <tr>\n",
       "      <th>9111</th>\n",
       "      <td>2017_1458_1462</td>\n",
       "      <td>0.5</td>\n",
       "    </tr>\n",
       "  </tbody>\n",
       "</table>\n",
       "</div>"
      ],
      "text/plain": [
       "                  ID  Pred\n",
       "9107  2017_1455_1458   0.5\n",
       "9108  2017_1455_1462   0.5\n",
       "9109  2017_1457_1458   0.5\n",
       "9110  2017_1457_1462   0.5\n",
       "9111  2017_1458_1462   0.5"
      ]
     },
     "execution_count": 66,
     "metadata": {},
     "output_type": "execute_result"
    }
   ],
   "source": [
    "df_sample_sub.tail()"
   ]
  },
  {
   "cell_type": "code",
   "execution_count": 67,
   "metadata": {},
   "outputs": [],
   "source": [
    "def seed_to_int(seed):\n",
    "    #Get just the digits from the seeding. Return as int\n",
    "    s_int = int(seed[1:3])\n",
    "    return s_int\n",
    "\n",
    "df_seeds['seed_int'] = df_seeds.Seed.apply(seed_to_int)\n",
    "df_seeds.drop(labels=['Seed'], inplace=True, axis=1) # "
   ]
  },
  {
   "cell_type": "code",
   "execution_count": 68,
   "metadata": {},
   "outputs": [],
   "source": [
    "df_tour.drop(labels=['DayNum', 'WScore', 'LScore', 'WLoc', 'NumOT'], inplace=True, axis=1)\n",
    "#df_tour2018.drop(labels=['DayNum', 'WScore', 'LScore', 'WLoc', 'NumOT'], inplace=True, axis=1)"
   ]
  },
  {
   "cell_type": "code",
   "execution_count": 69,
   "metadata": {},
   "outputs": [
    {
     "data": {
      "text/html": [
       "<div>\n",
       "<style scoped>\n",
       "    .dataframe tbody tr th:only-of-type {\n",
       "        vertical-align: middle;\n",
       "    }\n",
       "\n",
       "    .dataframe tbody tr th {\n",
       "        vertical-align: top;\n",
       "    }\n",
       "\n",
       "    .dataframe thead th {\n",
       "        text-align: right;\n",
       "    }\n",
       "</style>\n",
       "<table border=\"1\" class=\"dataframe\">\n",
       "  <thead>\n",
       "    <tr style=\"text-align: right;\">\n",
       "      <th></th>\n",
       "      <th>Season</th>\n",
       "      <th>WTeamID</th>\n",
       "      <th>LTeamID</th>\n",
       "      <th>WSeed</th>\n",
       "      <th>LSeed</th>\n",
       "      <th>SeedDiff</th>\n",
       "    </tr>\n",
       "  </thead>\n",
       "  <tbody>\n",
       "    <tr>\n",
       "      <th>2112</th>\n",
       "      <td>2017</td>\n",
       "      <td>1314</td>\n",
       "      <td>1246</td>\n",
       "      <td>1</td>\n",
       "      <td>2</td>\n",
       "      <td>-1</td>\n",
       "    </tr>\n",
       "    <tr>\n",
       "      <th>2113</th>\n",
       "      <td>2017</td>\n",
       "      <td>1376</td>\n",
       "      <td>1196</td>\n",
       "      <td>7</td>\n",
       "      <td>4</td>\n",
       "      <td>3</td>\n",
       "    </tr>\n",
       "    <tr>\n",
       "      <th>2114</th>\n",
       "      <td>2017</td>\n",
       "      <td>1211</td>\n",
       "      <td>1376</td>\n",
       "      <td>1</td>\n",
       "      <td>7</td>\n",
       "      <td>-6</td>\n",
       "    </tr>\n",
       "    <tr>\n",
       "      <th>2115</th>\n",
       "      <td>2017</td>\n",
       "      <td>1314</td>\n",
       "      <td>1332</td>\n",
       "      <td>1</td>\n",
       "      <td>3</td>\n",
       "      <td>-2</td>\n",
       "    </tr>\n",
       "    <tr>\n",
       "      <th>2116</th>\n",
       "      <td>2017</td>\n",
       "      <td>1314</td>\n",
       "      <td>1211</td>\n",
       "      <td>1</td>\n",
       "      <td>1</td>\n",
       "      <td>0</td>\n",
       "    </tr>\n",
       "  </tbody>\n",
       "</table>\n",
       "</div>"
      ],
      "text/plain": [
       "      Season  WTeamID  LTeamID  WSeed  LSeed  SeedDiff\n",
       "2112    2017     1314     1246      1      2        -1\n",
       "2113    2017     1376     1196      7      4         3\n",
       "2114    2017     1211     1376      1      7        -6\n",
       "2115    2017     1314     1332      1      3        -2\n",
       "2116    2017     1314     1211      1      1         0"
      ]
     },
     "execution_count": 69,
     "metadata": {},
     "output_type": "execute_result"
    }
   ],
   "source": [
    "df_winseeds = df_seeds.rename(columns={'TeamID':'WTeamID', 'seed_int':'WSeed'})\n",
    "df_lossseeds = df_seeds.rename(columns={'TeamID':'LTeamID', 'seed_int':'LSeed'})\n",
    "df_dummy = pd.merge(left=df_tour, right=df_winseeds, how='left', on=['Season', 'WTeamID'])\n",
    "df_concat = pd.merge(left=df_dummy, right=df_lossseeds, on=['Season', 'LTeamID'])\n",
    "df_concat['SeedDiff'] = df_concat.WSeed - df_concat.LSeed\n",
    "df_concat.tail()"
   ]
  },
  {
   "cell_type": "code",
   "execution_count": 70,
   "metadata": {},
   "outputs": [
    {
     "data": {
      "text/html": [
       "<div>\n",
       "<style scoped>\n",
       "    .dataframe tbody tr th:only-of-type {\n",
       "        vertical-align: middle;\n",
       "    }\n",
       "\n",
       "    .dataframe tbody tr th {\n",
       "        vertical-align: top;\n",
       "    }\n",
       "\n",
       "    .dataframe thead th {\n",
       "        text-align: right;\n",
       "    }\n",
       "</style>\n",
       "<table border=\"1\" class=\"dataframe\">\n",
       "  <thead>\n",
       "    <tr style=\"text-align: right;\">\n",
       "      <th></th>\n",
       "      <th>SeedDiff</th>\n",
       "      <th>Result</th>\n",
       "    </tr>\n",
       "  </thead>\n",
       "  <tbody>\n",
       "    <tr>\n",
       "      <th>2112</th>\n",
       "      <td>1</td>\n",
       "      <td>0</td>\n",
       "    </tr>\n",
       "    <tr>\n",
       "      <th>2113</th>\n",
       "      <td>-3</td>\n",
       "      <td>0</td>\n",
       "    </tr>\n",
       "    <tr>\n",
       "      <th>2114</th>\n",
       "      <td>6</td>\n",
       "      <td>0</td>\n",
       "    </tr>\n",
       "    <tr>\n",
       "      <th>2115</th>\n",
       "      <td>2</td>\n",
       "      <td>0</td>\n",
       "    </tr>\n",
       "    <tr>\n",
       "      <th>2116</th>\n",
       "      <td>0</td>\n",
       "      <td>0</td>\n",
       "    </tr>\n",
       "  </tbody>\n",
       "</table>\n",
       "</div>"
      ],
      "text/plain": [
       "      SeedDiff  Result\n",
       "2112         1       0\n",
       "2113        -3       0\n",
       "2114         6       0\n",
       "2115         2       0\n",
       "2116         0       0"
      ]
     },
     "execution_count": 70,
     "metadata": {},
     "output_type": "execute_result"
    }
   ],
   "source": [
    "df_wins = pd.DataFrame()\n",
    "df_wins['SeedDiff'] = df_concat['SeedDiff']\n",
    "df_wins['Result'] = 1\n",
    "\n",
    "df_losses = pd.DataFrame()\n",
    "df_losses['SeedDiff'] = -df_concat['SeedDiff']\n",
    "df_losses['Result'] = 0\n",
    "\n",
    "df_predictions = pd.concat((df_wins, df_losses))\n",
    "df_predictions.tail()"
   ]
  },
  {
   "cell_type": "code",
   "execution_count": 71,
   "metadata": {},
   "outputs": [],
   "source": [
    "X_train = df_predictions.SeedDiff.values.reshape(-1,1)\n",
    "y_train = df_predictions.Result.values\n",
    "X_train, y_train = shuffle(X_train, y_train)"
   ]
  },
  {
   "cell_type": "code",
   "execution_count": 72,
   "metadata": {},
   "outputs": [
    {
     "name": "stdout",
     "output_type": "stream",
     "text": [
      "Best log_loss: -0.553, with best C: 0.01\n"
     ]
    }
   ],
   "source": [
    "logreg = LogisticRegression()\n",
    "params = {'C': np.logspace(start=-5, stop=3, num=9)}\n",
    "clf = GridSearchCV(logreg, params, scoring='neg_log_loss', refit=True)\n",
    "clf.fit(X_train, y_train)\n",
    "print('Best log_loss: {:.4}, with best C: {}'.format(clf.best_score_, clf.best_params_['C']))"
   ]
  },
  {
   "cell_type": "code",
   "execution_count": 73,
   "metadata": {},
   "outputs": [
    {
     "data": {
      "text/plain": [
       "Text(0,0.5,'P(Team1 will win)')"
      ]
     },
     "execution_count": 73,
     "metadata": {},
     "output_type": "execute_result"
    },
    {
     "data": {
      "image/png": "[encoded data removed]",
      "text/plain": [
       "<matplotlib.figure.Figure at 0x111b28be0>"
      ]
     },
     "metadata": {},
     "output_type": "display_data"
    }
   ],
   "source": [
    "X = np.arange(-10, 10).reshape(-1, 1)\n",
    "preds = clf.predict_proba(X)[:,1]\n",
    "\n",
    "plt.plot(X, preds)\n",
    "plt.xlabel('Team1 seed - Team2 seed')\n",
    "plt.ylabel('P(Team1 will win)')"
   ]
  },
  {
   "cell_type": "code",
   "execution_count": 74,
   "metadata": {},
   "outputs": [],
   "source": [
    "n_test_games = len(df_sample_sub2)\n",
    "\n",
    "def get_year_t1_t2(ID):\n",
    "    \"\"\"Return a tuple with ints `year`, `team1` and `team2`.\"\"\"\n",
    "    return (int(x) for x in ID.split('_'))"
   ]
  },
  {
   "cell_type": "code",
   "execution_count": 75,
   "metadata": {},
   "outputs": [],
   "source": [
    "X_test = np.zeros(shape=(n_test_games, 1))\n",
    "for ii, row in df_sample_sub2.iterrows():\n",
    "    year, t1, t2 = get_year_t1_t2(row.ID)\n",
    "    \n",
    "    if df_seeds[(df_seeds.TeamID == t1) & (df_seeds.Season == year)].empty:\n",
    "        t1_seed = 8\n",
    "    else:\n",
    "        t1_seed = df_seeds[(df_seeds.TeamID == t1) & (df_seeds.Season == year)].seed_int.values[0]\n",
    "        \n",
    "    if df_seeds[(df_seeds.TeamID == t2) & (df_seeds.Season == year)].empty:\n",
    "        t2_seed = 8\n",
    "    else:\n",
    "        t2_seed = df_seeds[(df_seeds.TeamID == t2) & (df_seeds.Season == year)].seed_int.values[0]\n",
    "\n",
    "    diff_seed = t1_seed - t2_seed\n",
    "    X_test[ii, 0] = diff_seed"
   ]
  },
  {
   "cell_type": "code",
   "execution_count": 76,
   "metadata": {},
   "outputs": [
    {
     "name": "stdout",
     "output_type": "stream",
     "text": [
      "(2278, 1)\n",
      "(4234, 1)\n",
      "(4234,)\n"
     ]
    }
   ],
   "source": [
    "print(X_test.shape)\n",
    "#print(y_test.shape)\n",
    "print(X_train.shape)\n",
    "print(y_train.shape)"
   ]
  },
  {
   "cell_type": "code",
   "execution_count": 77,
   "metadata": {},
   "outputs": [
    {
     "data": {
      "text/html": [
       "<div>\n",
       "<style scoped>\n",
       "    .dataframe tbody tr th:only-of-type {\n",
       "        vertical-align: middle;\n",
       "    }\n",
       "\n",
       "    .dataframe tbody tr th {\n",
       "        vertical-align: top;\n",
       "    }\n",
       "\n",
       "    .dataframe thead th {\n",
       "        text-align: right;\n",
       "    }\n",
       "</style>\n",
       "<table border=\"1\" class=\"dataframe\">\n",
       "  <thead>\n",
       "    <tr style=\"text-align: right;\">\n",
       "      <th></th>\n",
       "      <th>ID</th>\n",
       "      <th>Pred</th>\n",
       "    </tr>\n",
       "  </thead>\n",
       "  <tbody>\n",
       "    <tr>\n",
       "      <th>0</th>\n",
       "      <td>2018_1104_1112</td>\n",
       "      <td>0.302236</td>\n",
       "    </tr>\n",
       "    <tr>\n",
       "      <th>1</th>\n",
       "      <td>2018_1104_1113</td>\n",
       "      <td>0.458264</td>\n",
       "    </tr>\n",
       "    <tr>\n",
       "      <th>2</th>\n",
       "      <td>2018_1104_1116</td>\n",
       "      <td>0.417105</td>\n",
       "    </tr>\n",
       "    <tr>\n",
       "      <th>3</th>\n",
       "      <td>2018_1104_1120</td>\n",
       "      <td>0.302236</td>\n",
       "    </tr>\n",
       "    <tr>\n",
       "      <th>4</th>\n",
       "      <td>2018_1104_1137</td>\n",
       "      <td>0.697764</td>\n",
       "    </tr>\n",
       "  </tbody>\n",
       "</table>\n",
       "</div>"
      ],
      "text/plain": [
       "               ID      Pred\n",
       "0  2018_1104_1112  0.302236\n",
       "1  2018_1104_1113  0.458264\n",
       "2  2018_1104_1116  0.417105\n",
       "3  2018_1104_1120  0.302236\n",
       "4  2018_1104_1137  0.697764"
      ]
     },
     "execution_count": 77,
     "metadata": {},
     "output_type": "execute_result"
    }
   ],
   "source": [
    "preds = clf.predict_proba(X_test)[:,1]\n",
    "\n",
    "clipped_preds = np.clip(preds, 0.05, 0.95)\n",
    "df_sample_sub2.Pred = clipped_preds\n",
    "df_sample_sub2.head()"
   ]
  },
  {
   "cell_type": "code",
   "execution_count": 78,
   "metadata": {},
   "outputs": [
    {
     "data": {
      "image/png": "[encoded data removed]",
      "text/plain": [
       "<matplotlib.figure.Figure at 0x111b1ab38>"
      ]
     },
     "metadata": {},
     "output_type": "display_data"
    }
   ],
   "source": [
    "plt.hist(clipped_preds, bins=50, color='c', edgecolor='black');"
   ]
  },
  {
   "cell_type": "code",
   "execution_count": 79,
   "metadata": {},
   "outputs": [
    {
     "data": {
      "image/png": "[encoded data removed]",
      "text/plain": [
       "<matplotlib.figure.Figure at 0x1a185efe10>"
      ]
     },
     "metadata": {},
     "output_type": "display_data"
    }
   ],
   "source": [
    "df_sample_sub2.Pred.plot.kde();"
   ]
  },
  {
   "cell_type": "code",
   "execution_count": 80,
   "metadata": {},
   "outputs": [],
   "source": [
    "teams = os.path.join(raw_data_path, 'Teams.csv')\n",
    "df_teams = pd.read_csv(teams)"
   ]
  },
  {
   "cell_type": "code",
   "execution_count": 81,
   "metadata": {},
   "outputs": [],
   "source": [
    "df_results = pd.DataFrame(columns=['WTeam','LTeam','Prob'])\n",
    "\n",
    "i = 0\n",
    "for ii, row in df_sample_sub2.iterrows():\n",
    "    year, t1, t2 = get_year_t1_t2(row.ID)\n",
    "    \n",
    "    df_results.loc[i] = [df_teams[df_teams.TeamID == t1].TeamName.values[0],df_teams[df_teams.TeamID == t2].TeamName.values[0],row.Pred]\n",
    "    i=i+1"
   ]
  },
  {
   "cell_type": "code",
   "execution_count": 82,
   "metadata": {},
   "outputs": [],
   "source": [
    "df_results.to_csv('logreg_seed_starter2.csv', index=False)"
   ]
  },
  {
   "cell_type": "code",
   "execution_count": null,
   "metadata": {},
   "outputs": [],
   "source": []
  }
 ],
 "metadata": {
  "kernelspec": {
   "display_name": "Python 3",
   "language": "python",
   "name": "python3"
  },
  "language_info": {
   "codemirror_mode": {
    "name": "ipython",
    "version": 3
   },
   "file_extension": ".py",
   "mimetype": "text/x-python",
   "name": "python",
   "nbconvert_exporter": "python",
   "pygments_lexer": "ipython3",
   "version": "3.5.4"
  }
 },
 "nbformat": 4,
 "nbformat_minor": 2
}
