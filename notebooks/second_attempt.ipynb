{
 "cells": [
  {
   "cell_type": "code",
   "execution_count": 1,
   "metadata": {},
   "outputs": [],
   "source": [
    "import pandas as pd\n",
    "import numpy as np\n",
    "import matplotlib.pyplot as plt\n",
    "import os\n",
    "\n",
    "%matplotlib inline"
   ]
  },
  {
   "cell_type": "code",
   "execution_count": 63,
   "metadata": {},
   "outputs": [],
   "source": [
    "raw_data_path = os.path.join(os.path.pardir,'data','raw','DataFiles')\n",
    "\n",
    "ncaa_tourney_compact = os.path.join(raw_data_path, 'NCAATourneyCompactResults.csv')\n",
    "ncaa_tourney_detailed = os.path.join(raw_data_path, 'NCAATourneyDetailedResults.csv')\n",
    "ncaa_tourney_seeds2018 = os.path.join(os.path.join(os.path.pardir,'data','raw','SampleTourney2018'), 'NCAATourneySeeds_SampleTourney2018.csv')\n",
    "\n",
    "#reg_season_compact = os.path.join(raw_data_path, 'RegularSeasonCompactResults.csv')\n",
    "reg_season_compact = os.path.join(os.path.join(os.path.pardir,'data','raw','PrelimData2018'), 'RegularSeasonCompactResults_Prelim2018.csv')\n",
    "reg_season_detailed = os.path.join(os.path.join(os.path.pardir,'data','raw','PrelimData2018'), 'RegularSeasonDetailedResults_Prelim2018.csv')\n",
    "\n",
    "teams = os.path.join(raw_data_path, 'Teams.csv')\n",
    "\n",
    "sample_sub = os.path.join(os.path.pardir,'data','raw','SampleSubmissionStage1.csv')\n",
    "sample_sub2 = os.path.join(os.path.pardir,'data','raw','SampleSubmissionStage2.csv')\n",
    "\n",
    "df_ncaa_tourney_compact = pd.read_csv(ncaa_tourney_compact)\n",
    "df_ncaa_tourney_detailed = pd.read_csv(ncaa_tourney_detailed)\n",
    "\n",
    "df_seeds = pd.read_csv(ncaa_tourney_seeds2018)\n",
    "\n",
    "df_reg_season_compact = pd.read_csv(reg_season_compact)\n",
    "df_reg_season_detailed = pd.read_csv(reg_season_detailed)\n",
    "\n",
    "df_teams = pd.read_csv(teams)\n",
    "\n",
    "df_sample_sub = pd.read_csv(sample_sub)\n",
    "df_sample_sub2 = pd.read_csv(sample_sub2)"
   ]
  },
  {
   "cell_type": "code",
   "execution_count": 64,
   "metadata": {},
   "outputs": [],
   "source": [
    "win_stats = df_reg_season_detailed.loc[:,['Season','WTeamID','WScore','WFGM','WFGA','WFGM3','WFGA3','WFTM','WFTA','WOR','WDR','WAst','WTO','WStl','WBlk','WPF']]\n",
    "los_stats = df_reg_season_detailed.loc[:,['Season','LTeamID','LScore','LFGM','LFGA','LFGM3','LFGA3','LFTM','LFTA','LOR','LDR','LAst','LTO','LStl','LBlk','LPF']]"
   ]
  },
  {
   "cell_type": "code",
   "execution_count": 65,
   "metadata": {},
   "outputs": [],
   "source": [
    "win_stats.rename(columns={'WTeamID':'TeamID','WScore':'Score','WFGM':'FGM','WFGA':'FGA','WFGM3':'FGM3','WFGA3':'FGA3','WFTM':'FTM','WFTA':'FTA','WOR':'OR','WDR':'DR','WAst':'AST','WTO':'TO','WStl':'STL','WBlk':'BLK','WPF':'PF'},inplace=True)\n",
    "los_stats.rename(columns={'LTeamID':'TeamID','LScore':'Score','LFGM':'FGM','LFGA':'FGA','LFGM3':'FGM3','LFGA3':'FGA3','LFTM':'FTM','LFTA':'FTA','LOR':'OR','LDR':'DR','LAst':'AST','LTO':'TO','LStl':'STL','LBlk':'BLK','LPF':'PF'},inplace=True)"
   ]
  },
  {
   "cell_type": "code",
   "execution_count": 66,
   "metadata": {},
   "outputs": [],
   "source": [
    "team_stats = pd.concat([win_stats,los_stats])"
   ]
  },
  {
   "cell_type": "code",
   "execution_count": 67,
   "metadata": {},
   "outputs": [],
   "source": [
    "# Field Goal Percentage\n",
    "team_stats['FGP'] = team_stats.FGM / team_stats.FGA\n",
    "\n",
    "# 2-pt Field Goal Percentage\n",
    "team_stats['FGP2'] = (team_stats.FGM - team_stats.FGM3) / (team_stats.FGA - team_stats.FGA3)\n",
    "\n",
    "# 3-pt Field Goal Percentage\n",
    "team_stats['FGP3'] = team_stats.FGM3 / team_stats.FGA3\n",
    "\n",
    "# Free-Throw Percentage\n",
    "team_stats['FTP'] = team_stats.FTM / team_stats.FTA"
   ]
  },
  {
   "cell_type": "code",
   "execution_count": 68,
   "metadata": {},
   "outputs": [],
   "source": [
    "team_stats.drop(labels=['FGM', 'FGA', 'FGM3', 'FGA3', 'FTM', 'FTA'], inplace=True, axis=1)"
   ]
  },
  {
   "cell_type": "code",
   "execution_count": 69,
   "metadata": {},
   "outputs": [],
   "source": [
    "# Field Goal Percentage\n",
    "df_reg_season_detailed['WFGP'] = df_reg_season_detailed.WFGM / df_reg_season_detailed.WFGA\n",
    "df_reg_season_detailed['LFGP'] = df_reg_season_detailed.LFGM / df_reg_season_detailed.LFGA\n",
    "\n",
    "# 2-pt Field Goal Percentage\n",
    "df_reg_season_detailed['WFGP2'] = (df_reg_season_detailed.WFGM - df_reg_season_detailed.WFGM3) / (df_reg_season_detailed.WFGA - df_reg_season_detailed.WFGA3)\n",
    "df_reg_season_detailed['LFGP2'] = (df_reg_season_detailed.LFGM - df_reg_season_detailed.LFGM3) / (df_reg_season_detailed.LFGA - df_reg_season_detailed.LFGA3)\n",
    "\n",
    "# 3-pt Field Goal Percentage\n",
    "df_reg_season_detailed['WFGP3'] = df_reg_season_detailed.WFGM3 / df_reg_season_detailed.WFGA3\n",
    "df_reg_season_detailed['LFGP3'] = df_reg_season_detailed.LFGM3 / df_reg_season_detailed.LFGA3\n",
    "\n",
    "# Free-Throw Percentage\n",
    "df_reg_season_detailed['WFTP'] = df_reg_season_detailed.WFTM / df_reg_season_detailed.WFTA\n",
    "df_reg_season_detailed['LFTP'] = df_reg_season_detailed.LFTM / df_reg_season_detailed.LFTA\n",
    "\n",
    "# Offensive Rebound Percentage\n",
    "df_reg_season_detailed['WORP'] = df_reg_season_detailed.WOR / (df_reg_season_detailed.WOR + df_reg_season_detailed.LDR)\n",
    "df_reg_season_detailed['LORP'] = df_reg_season_detailed.LOR / (df_reg_season_detailed.LOR + df_reg_season_detailed.WDR)\n",
    "\n",
    "# Defensive Rebound Percentage\n",
    "df_reg_season_detailed['WDRP'] = df_reg_season_detailed.WDR / (df_reg_season_detailed.WDR + df_reg_season_detailed.LOR)\n",
    "df_reg_season_detailed['LDRP'] = df_reg_season_detailed.LDR / (df_reg_season_detailed.LDR + df_reg_season_detailed.WOR)"
   ]
  },
  {
   "cell_type": "code",
   "execution_count": 76,
   "metadata": {},
   "outputs": [],
   "source": [
    "def get_year_t1_t2(ID):\n",
    "    return (int(x) for x in ID.split('_'))"
   ]
  },
  {
   "cell_type": "code",
   "execution_count": 103,
   "metadata": {},
   "outputs": [
    {
     "data": {
      "text/plain": [
       "9"
      ]
     },
     "execution_count": 103,
     "metadata": {},
     "output_type": "execute_result"
    }
   ],
   "source": [
    "mask = (df_seeds['TeamID'].values == 1104) & (df_seeds['Season'] == 2018)\n",
    "int(df_seeds[mask].Seed.values[0][1:3])"
   ]
  },
  {
   "cell_type": "code",
   "execution_count": 110,
   "metadata": {},
   "outputs": [],
   "source": [
    "def get_seed_diff(WTeamID,LTeamID,Season):\n",
    "    win_mask = (df_seeds['TeamID'].values == WTeamID) & (df_seeds['Season'] == Season)\n",
    "    if df_seeds[win_mask].empty:\n",
    "        win_seed = 0\n",
    "    else:\n",
    "        win_seed = int(df_seeds[win_mask].Seed.values[0][1:3])\n",
    "    \n",
    "    los_mask = (df_seeds['TeamID'].values == LTeamID) & (df_seeds['Season'] == Season)\n",
    "    if df_seeds[los_mask].empty:\n",
    "        los_seed = 0\n",
    "    else:\n",
    "        los_seed = int(df_seeds[los_mask].Seed.values[0][1:3])\n",
    "        \n",
    "    return win_seed - los_seed"
   ]
  },
  {
   "cell_type": "markdown",
   "metadata": {},
   "source": [
    "### Create training data with winning and losing median reg. season stats containing regular and inverted results"
   ]
  },
  {
   "cell_type": "code",
   "execution_count": 111,
   "metadata": {},
   "outputs": [],
   "source": [
    "df_win_train = pd.DataFrame(columns=['AFGP','BFGP','AFGP2','BFGP2','AFGP3','BFGP3','AFTP','BFTP','AOR','BOR','ADR','BDR','AAST','BAST','ATO','BTO','ASTL','BSTL','ABLK','BBLK','APF','BPF','AWP','BWP','SDDF','Result'])\n",
    "df_los_train = pd.DataFrame(columns=['AFGP','BFGP','AFGP2','BFGP2','AFGP3','BFGP3','AFTP','BFTP','AOR','BOR','ADR','BDR','AAST','BAST','ATO','BTO','ASTL','BSTL','ABLK','BBLK','APF','BPF','AWP','BWP','SDDF','Result'])\n",
    "\n",
    "i = 0\n",
    "for ii, row in df_ncaa_tourney_compact[(df_ncaa_tourney_compact.Season >= 2003) & (df_ncaa_tourney_compact.Season < 2018)].iterrows():\n",
    "    t1_fgp = team_stats[(team_stats.Season == row.Season) & (team_stats.TeamID == row.WTeamID)].FGP.median()\n",
    "    t2_fgp = team_stats[(team_stats.Season == row.Season) & (team_stats.TeamID == row.LTeamID)].FGP.median()\n",
    "\n",
    "    t1_fgp2 = team_stats[(team_stats.Season == row.Season) & (team_stats.TeamID == row.WTeamID)].FGP2.median()\n",
    "    t2_fgp2 = team_stats[(team_stats.Season == row.Season) & (team_stats.TeamID == row.LTeamID)].FGP2.median()\n",
    "    \n",
    "    t1_fgp3 = team_stats[(team_stats.Season == row.Season) & (team_stats.TeamID == row.WTeamID)].FGP3.median()\n",
    "    t2_fgp3 = team_stats[(team_stats.Season == row.Season) & (team_stats.TeamID == row.LTeamID)].FGP3.median()\n",
    "    \n",
    "    t1_ftp = team_stats[(team_stats.Season == row.Season) & (team_stats.TeamID == row.WTeamID)].FTP.median()\n",
    "    t2_ftp = team_stats[(team_stats.Season == row.Season) & (team_stats.TeamID == row.LTeamID)].FTP.median()\n",
    "    \n",
    "    t1_or = team_stats[(team_stats.Season == row.Season) & (team_stats.TeamID == row.WTeamID)].OR.median()\n",
    "    t2_or = team_stats[(team_stats.Season == row.Season) & (team_stats.TeamID == row.LTeamID)].OR.median()\n",
    "    \n",
    "    t1_dr = team_stats[(team_stats.Season == row.Season) & (team_stats.TeamID == row.WTeamID)].DR.median()\n",
    "    t2_dr = team_stats[(team_stats.Season == row.Season) & (team_stats.TeamID == row.LTeamID)].DR.median()\n",
    "    \n",
    "    t1_ast = team_stats[(team_stats.Season == row.Season) & (team_stats.TeamID == row.WTeamID)].AST.median()\n",
    "    t2_ast = team_stats[(team_stats.Season == row.Season) & (team_stats.TeamID == row.LTeamID)].AST.median()\n",
    "    \n",
    "    t1_to = team_stats[(team_stats.Season == row.Season) & (team_stats.TeamID == row.WTeamID)].TO.median()\n",
    "    t2_to = team_stats[(team_stats.Season == row.Season) & (team_stats.TeamID == row.LTeamID)].TO.median()\n",
    "    \n",
    "    t1_stl = team_stats[(team_stats.Season == row.Season) & (team_stats.TeamID == row.WTeamID)].STL.median()\n",
    "    t2_stl = team_stats[(team_stats.Season == row.Season) & (team_stats.TeamID == row.LTeamID)].STL.median()\n",
    "    \n",
    "    t1_blk = team_stats[(team_stats.Season == row.Season) & (team_stats.TeamID == row.WTeamID)].BLK.median()\n",
    "    t2_blk = team_stats[(team_stats.Season == row.Season) & (team_stats.TeamID == row.LTeamID)].BLK.median()\n",
    "    \n",
    "    t1_pf = team_stats[(team_stats.Season == row.Season) & (team_stats.TeamID == row.WTeamID)].PF.median()\n",
    "    t2_pf = team_stats[(team_stats.Season == row.Season) & (team_stats.TeamID == row.LTeamID)].PF.median()\n",
    "    \n",
    "    t1_wp = win_stats[(win_stats.TeamID == row.WTeamID) & (win_stats.Season == row.Season)].shape[0] / (win_stats[(win_stats.TeamID == row.WTeamID) & (win_stats.Season == row.Season)].shape[0] + los_stats[(los_stats.TeamID == row.WTeamID) & (los_stats.Season == row.Season)].shape[0])\n",
    "    t2_wp = win_stats[(win_stats.TeamID == row.LTeamID) & (win_stats.Season == row.Season)].shape[0] / (win_stats[(win_stats.TeamID == row.LTeamID) & (win_stats.Season == row.Season)].shape[0] + los_stats[(los_stats.TeamID == row.LTeamID) & (los_stats.Season == row.Season)].shape[0])\n",
    "               \n",
    "    seed_diff = get_seed_diff(row.WTeamID,row.LTeamID,row.Season)\n",
    "        \n",
    "    df_win_train.loc[i] = [t1_fgp,t2_fgp,t1_fgp2,t2_fgp2,t1_fgp3,t2_fgp3,t1_ftp,t2_ftp,t1_or,t2_or,t1_dr,t2_dr,t1_ast,t2_ast,t1_to,t2_to,t1_stl,t2_stl,t1_blk,t2_blk,t1_pf,t2_pf,t1_wp,t2_wp,seed_diff,1]\n",
    "    df_los_train.loc[i] = [t2_fgp,t1_fgp,t2_fgp2,t1_fgp2,t2_fgp3,t1_fgp3,t2_ftp,t1_ftp,t2_or,t1_or,t2_dr,t1_dr,t2_ast,t1_ast,t2_to,t1_to,t2_stl,t1_stl,t2_blk,t1_blk,t2_pf,t1_pf,t2_wp,t1_wp,-seed_diff,0]\n",
    "    \n",
    "    i=i+1"
   ]
  },
  {
   "cell_type": "markdown",
   "metadata": {},
   "source": [
    "### Create test data using 2018 reg. season stats and team in submission file"
   ]
  },
  {
   "cell_type": "code",
   "execution_count": 112,
   "metadata": {},
   "outputs": [],
   "source": [
    "X_test = pd.DataFrame(columns=['AFGP','BFGP','AFGP2','BFGP2','AFGP3','BFGP3','AFTP','BFTP','AOR','BOR','ADR','BDR','AAST','BAST','ATO','BTO','ASTL','BSTL','ABLK','BBLK','APF','BPF','AWP','BWP','SDDF'])\n",
    "y_test = pd.DataFrame(columns=['Result'])\n",
    "\n",
    "i = 0\n",
    "for ii, row in df_sample_sub2.iterrows():\n",
    "    year, t1, t2 = get_year_t1_t2(row.ID)\n",
    "    \n",
    "    t1_fgp = team_stats[(team_stats.Season == year) & (team_stats.TeamID == t1)].FGP.median()\n",
    "    t2_fgp = team_stats[(team_stats.Season == year) & (team_stats.TeamID == t2)].FGP.median()\n",
    "    \n",
    "    t1_fgp2 = team_stats[(team_stats.Season == year) & (team_stats.TeamID == t1)].FGP2.median()\n",
    "    t2_fgp2 = team_stats[(team_stats.Season == year) & (team_stats.TeamID == t2)].FGP2.median()\n",
    "    \n",
    "    t1_fgp3 = team_stats[(team_stats.Season == year) & (team_stats.TeamID == t1)].FGP3.median()\n",
    "    t2_fgp3 = team_stats[(team_stats.Season == year) & (team_stats.TeamID == t2)].FGP3.median()\n",
    "    \n",
    "    t1_ftp = team_stats[(team_stats.Season == year) & (team_stats.TeamID == t1)].FTP.median()\n",
    "    t2_ftp = team_stats[(team_stats.Season == year) & (team_stats.TeamID == t2)].FTP.median()\n",
    "    \n",
    "    t1_or = team_stats[(team_stats.Season == year) & (team_stats.TeamID == t1)].OR.median()\n",
    "    t2_or = team_stats[(team_stats.Season == year) & (team_stats.TeamID == t2)].OR.median()\n",
    "    \n",
    "    t1_dr = team_stats[(team_stats.Season == year) & (team_stats.TeamID == t1)].DR.median()\n",
    "    t2_dr = team_stats[(team_stats.Season == year) & (team_stats.TeamID == t2)].DR.median()\n",
    "    \n",
    "    t1_ast = team_stats[(team_stats.Season == year) & (team_stats.TeamID == t1)].AST.median()\n",
    "    t2_ast = team_stats[(team_stats.Season == year) & (team_stats.TeamID == t2)].AST.median()\n",
    "    \n",
    "    t1_to = team_stats[(team_stats.Season == year) & (team_stats.TeamID == t1)].TO.median()\n",
    "    t2_to = team_stats[(team_stats.Season == year) & (team_stats.TeamID == t2)].TO.median()\n",
    "    \n",
    "    t1_stl = team_stats[(team_stats.Season == year) & (team_stats.TeamID == t1)].STL.median()\n",
    "    t2_stl = team_stats[(team_stats.Season == year) & (team_stats.TeamID == t2)].STL.median()\n",
    "    \n",
    "    t1_blk = team_stats[(team_stats.Season == year) & (team_stats.TeamID == t1)].BLK.median()\n",
    "    t2_blk = team_stats[(team_stats.Season == year) & (team_stats.TeamID == t2)].BLK.median()\n",
    "    \n",
    "    t1_pf = team_stats[(team_stats.Season == year) & (team_stats.TeamID == t1)].PF.median()\n",
    "    t2_pf = team_stats[(team_stats.Season == year) & (team_stats.TeamID == t2)].PF.median()\n",
    "    \n",
    "    t1_wp = win_stats[(win_stats.TeamID == t1) & (win_stats.Season == year)].shape[0] / (win_stats[(win_stats.TeamID == t1) & (win_stats.Season == year)].shape[0] + los_stats[(los_stats.TeamID == t1) & (los_stats.Season == year)].shape[0])\n",
    "    t2_wp = win_stats[(win_stats.TeamID == t2) & (win_stats.Season == year)].shape[0] / (win_stats[(win_stats.TeamID == t2) & (win_stats.Season == year)].shape[0] + los_stats[(los_stats.TeamID == t2) & (los_stats.Season == year)].shape[0])\n",
    "        \n",
    "    seed_diff = get_seed_diff(t1,t2,year)\n",
    "        \n",
    "    X_test.loc[i] = [t1_fgp,t2_fgp,t1_fgp2,t2_fgp2,t1_fgp3,t2_fgp3,t1_ftp,t2_ftp,t1_or,t2_or,t1_dr,t2_dr,t1_ast,t2_ast,t1_to,t2_to,t1_stl,t2_stl,t1_blk,t2_blk,t1_pf,t2_pf,t1_wp,t2_wp,seed_diff]\n",
    "    y_test.loc[i] = 0.5\n",
    "    \n",
    "    i=i+1    "
   ]
  },
  {
   "cell_type": "code",
   "execution_count": 113,
   "metadata": {},
   "outputs": [],
   "source": [
    "df_predictions = pd.concat((df_win_train, df_los_train))\n",
    "\n",
    "X_train = df_predictions.loc[:,df_predictions.columns != 'Result']\n",
    "y_train = df_predictions.Result.values.astype('float')"
   ]
  },
  {
   "cell_type": "code",
   "execution_count": 114,
   "metadata": {},
   "outputs": [
    {
     "data": {
      "text/plain": [
       "GridSearchCV(cv=None, error_score='raise',\n",
       "       estimator=LogisticRegression(C=1.0, class_weight=None, dual=False, fit_intercept=True,\n",
       "          intercept_scaling=1, max_iter=100, multi_class='ovr', n_jobs=1,\n",
       "          penalty='l2', random_state=0, solver='liblinear', tol=0.0001,\n",
       "          verbose=0, warm_start=False),\n",
       "       fit_params=None, iid=True, n_jobs=1,\n",
       "       param_grid={'C': array([1.00000e-20, 1.27427e-18, 1.62378e-16, 2.06914e-14, 2.63665e-12,\n",
       "       3.35982e-10, 4.28133e-08, 5.45559e-06, 6.95193e-04, 8.85867e-02,\n",
       "       1.12884e+01, 1.43845e+03, 1.83298e+05, 2.33572e+07, 2.97635e+09,\n",
       "       3.79269e+11, 4.83293e+13, 6.15848e+15, 7.84760e+17, 1.00000e+20])},\n",
       "       pre_dispatch='2*n_jobs', refit=True, return_train_score='warn',\n",
       "       scoring='neg_log_loss', verbose=0)"
      ]
     },
     "execution_count": 114,
     "metadata": {},
     "output_type": "execute_result"
    }
   ],
   "source": [
    "from sklearn.linear_model import LogisticRegression\n",
    "from sklearn.model_selection import GridSearchCV\n",
    "\n",
    "logreg = LogisticRegression(random_state=0)\n",
    "\n",
    "params = {'C' : np.logspace(start=-20, stop=20, num=20)}\n",
    "clf = GridSearchCV(logreg, params, scoring='neg_log_loss', refit=True)\n",
    "clf.fit(X_train, y_train)"
   ]
  },
  {
   "cell_type": "code",
   "execution_count": 115,
   "metadata": {},
   "outputs": [
    {
     "name": "stdout",
     "output_type": "stream",
     "text": [
      "Best log_loss: -0.5524, with best C: 11.288378916846836\n"
     ]
    }
   ],
   "source": [
    "print('Best log_loss: {:.4}, with best C: {}'.format(clf.best_score_, clf.best_params_['C']))"
   ]
  },
  {
   "cell_type": "code",
   "execution_count": 116,
   "metadata": {},
   "outputs": [
    {
     "data": {
      "text/html": [
       "<div>\n",
       "<style scoped>\n",
       "    .dataframe tbody tr th:only-of-type {\n",
       "        vertical-align: middle;\n",
       "    }\n",
       "\n",
       "    .dataframe tbody tr th {\n",
       "        vertical-align: top;\n",
       "    }\n",
       "\n",
       "    .dataframe thead th {\n",
       "        text-align: right;\n",
       "    }\n",
       "</style>\n",
       "<table border=\"1\" class=\"dataframe\">\n",
       "  <thead>\n",
       "    <tr style=\"text-align: right;\">\n",
       "      <th></th>\n",
       "      <th>ID</th>\n",
       "      <th>Pred</th>\n",
       "    </tr>\n",
       "  </thead>\n",
       "  <tbody>\n",
       "    <tr>\n",
       "      <th>2273</th>\n",
       "      <td>2018_1452_1460</td>\n",
       "      <td>0.876445</td>\n",
       "    </tr>\n",
       "    <tr>\n",
       "      <th>2274</th>\n",
       "      <td>2018_1452_1462</td>\n",
       "      <td>0.470243</td>\n",
       "    </tr>\n",
       "    <tr>\n",
       "      <th>2275</th>\n",
       "      <td>2018_1455_1460</td>\n",
       "      <td>0.831614</td>\n",
       "    </tr>\n",
       "    <tr>\n",
       "      <th>2276</th>\n",
       "      <td>2018_1455_1462</td>\n",
       "      <td>0.381958</td>\n",
       "    </tr>\n",
       "    <tr>\n",
       "      <th>2277</th>\n",
       "      <td>2018_1460_1462</td>\n",
       "      <td>0.111218</td>\n",
       "    </tr>\n",
       "  </tbody>\n",
       "</table>\n",
       "</div>"
      ],
      "text/plain": [
       "                  ID      Pred\n",
       "2273  2018_1452_1460  0.876445\n",
       "2274  2018_1452_1462  0.470243\n",
       "2275  2018_1455_1460  0.831614\n",
       "2276  2018_1455_1462  0.381958\n",
       "2277  2018_1460_1462  0.111218"
      ]
     },
     "execution_count": 116,
     "metadata": {},
     "output_type": "execute_result"
    }
   ],
   "source": [
    "preds = clf.predict_proba(X_test)[:,1]\n",
    "\n",
    "clipped_preds = np.clip(preds, 0.05, 0.95)\n",
    "\n",
    "df_sample_sub2.Pred = clipped_preds\n",
    "df_sample_sub2.tail()"
   ]
  },
  {
   "cell_type": "code",
   "execution_count": 117,
   "metadata": {},
   "outputs": [
    {
     "data": {
      "image/png": "[encoded data removed]",
      "text/plain": [
       "<matplotlib.figure.Figure at 0x1a1b803a58>"
      ]
     },
     "metadata": {},
     "output_type": "display_data"
    }
   ],
   "source": [
    "plt.hist(clipped_preds, bins=50, color='c', edgecolor='black');"
   ]
  },
  {
   "cell_type": "code",
   "execution_count": 118,
   "metadata": {},
   "outputs": [
    {
     "data": {
      "image/png": "[encoded data removed]",
      "text/plain": [
       "<matplotlib.figure.Figure at 0x1a1b8034e0>"
      ]
     },
     "metadata": {},
     "output_type": "display_data"
    }
   ],
   "source": [
    "df_sample_sub2.Pred.plot.kde();"
   ]
  },
  {
   "cell_type": "code",
   "execution_count": 119,
   "metadata": {},
   "outputs": [],
   "source": [
    "df_results = pd.DataFrame(columns=['WTeam','LTeam','Prob'])\n",
    "\n",
    "i = 0\n",
    "for ii, row in df_sample_sub2.iterrows():\n",
    "    year, t1, t2 = get_year_t1_t2(row.ID)\n",
    "    \n",
    "    df_results.loc[i] = [df_teams[df_teams.TeamID == t1].TeamName.values[0],df_teams[df_teams.TeamID == t2].TeamName.values[0],row.Pred]\n",
    "    i=i+1"
   ]
  },
  {
   "cell_type": "code",
   "execution_count": 120,
   "metadata": {},
   "outputs": [],
   "source": [
    "df_results.to_csv('second_log_reg_results2.csv', index=False)"
   ]
  }
 ],
 "metadata": {
  "kernelspec": {
   "display_name": "Python 3",
   "language": "python",
   "name": "python3"
  },
  "language_info": {
   "codemirror_mode": {
    "name": "ipython",
    "version": 3
   },
   "file_extension": ".py",
   "mimetype": "text/x-python",
   "name": "python",
   "nbconvert_exporter": "python",
   "pygments_lexer": "ipython3",
   "version": "3.5.4"
  }
 },
 "nbformat": 4,
 "nbformat_minor": 2
}
